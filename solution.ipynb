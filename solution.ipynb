{
 "cells": [
  {
   "cell_type": "code",
   "execution_count": 2,
   "metadata": {},
   "outputs": [],
   "source": [
    "\"\"\"Imports\"\"\"\n",
    "import pandas as pd\n",
    "import numpy as np "
   ]
  },
  {
   "cell_type": "code",
   "execution_count": 53,
   "metadata": {},
   "outputs": [],
   "source": [
    "df =  pd.read_csv(\"electric_bike_ratings_2212.csv\")"
   ]
  },
  {
   "cell_type": "code",
   "execution_count": 7,
   "metadata": {},
   "outputs": [
    {
     "data": {
      "text/html": [
       "<div>\n",
       "<style scoped>\n",
       "    .dataframe tbody tr th:only-of-type {\n",
       "        vertical-align: middle;\n",
       "    }\n",
       "\n",
       "    .dataframe tbody tr th {\n",
       "        vertical-align: top;\n",
       "    }\n",
       "\n",
       "    .dataframe thead th {\n",
       "        text-align: right;\n",
       "    }\n",
       "</style>\n",
       "<table border=\"1\" class=\"dataframe\">\n",
       "  <thead>\n",
       "    <tr style=\"text-align: right;\">\n",
       "      <th></th>\n",
       "      <th>owned</th>\n",
       "      <th>make_model</th>\n",
       "      <th>review_month</th>\n",
       "      <th>web_browser</th>\n",
       "      <th>reviewer_age</th>\n",
       "      <th>primary_use</th>\n",
       "      <th>value_for_money</th>\n",
       "      <th>overall_rating</th>\n",
       "    </tr>\n",
       "  </thead>\n",
       "  <tbody>\n",
       "    <tr>\n",
       "      <th>0</th>\n",
       "      <td>1</td>\n",
       "      <td>Nielah-Eyden</td>\n",
       "      <td>Oct</td>\n",
       "      <td>Chrome</td>\n",
       "      <td>23</td>\n",
       "      <td>Commuting</td>\n",
       "      <td>5/10</td>\n",
       "      <td>18.62</td>\n",
       "    </tr>\n",
       "    <tr>\n",
       "      <th>1</th>\n",
       "      <td>0</td>\n",
       "      <td>Nielah-Keetra</td>\n",
       "      <td>Jun</td>\n",
       "      <td>NaN</td>\n",
       "      <td>24</td>\n",
       "      <td>Commuting</td>\n",
       "      <td>4/10</td>\n",
       "      <td>15.55</td>\n",
       "    </tr>\n",
       "    <tr>\n",
       "      <th>2</th>\n",
       "      <td>0</td>\n",
       "      <td>Lunna-Keetra</td>\n",
       "      <td>23-Oct</td>\n",
       "      <td>Chrome</td>\n",
       "      <td>28</td>\n",
       "      <td>Commuting</td>\n",
       "      <td>5/10</td>\n",
       "      <td>12.76</td>\n",
       "    </tr>\n",
       "    <tr>\n",
       "      <th>3</th>\n",
       "      <td>1</td>\n",
       "      <td>Hoang-Keetra</td>\n",
       "      <td>07-Nov</td>\n",
       "      <td>IE</td>\n",
       "      <td>41</td>\n",
       "      <td>Leisure</td>\n",
       "      <td>5/10</td>\n",
       "      <td>17.07</td>\n",
       "    </tr>\n",
       "    <tr>\n",
       "      <th>4</th>\n",
       "      <td>1</td>\n",
       "      <td>Lunna-Keetra</td>\n",
       "      <td>16-Sep</td>\n",
       "      <td>Chrome</td>\n",
       "      <td>33</td>\n",
       "      <td>Leisure</td>\n",
       "      <td>5/10</td>\n",
       "      <td>12.29</td>\n",
       "    </tr>\n",
       "  </tbody>\n",
       "</table>\n",
       "</div>"
      ],
      "text/plain": [
       "   owned     make_model review_month web_browser reviewer_age primary_use  \\\n",
       "0      1   Nielah-Eyden          Oct      Chrome           23   Commuting   \n",
       "1      0  Nielah-Keetra          Jun         NaN           24   Commuting   \n",
       "2      0   Lunna-Keetra       23-Oct      Chrome           28   Commuting   \n",
       "3      1   Hoang-Keetra       07-Nov          IE           41     Leisure   \n",
       "4      1   Lunna-Keetra       16-Sep      Chrome           33     Leisure   \n",
       "\n",
       "  value_for_money  overall_rating  \n",
       "0            5/10           18.62  \n",
       "1            4/10           15.55  \n",
       "2            5/10           12.76  \n",
       "3            5/10           17.07  \n",
       "4            5/10           12.29  "
      ]
     },
     "execution_count": 7,
     "metadata": {},
     "output_type": "execute_result"
    }
   ],
   "source": [
    "df.head()"
   ]
  },
  {
   "cell_type": "code",
   "execution_count": 27,
   "metadata": {},
   "outputs": [
    {
     "name": "stdout",
     "output_type": "stream",
     "text": [
      "<class 'pandas.core.frame.DataFrame'>\n",
      "Int64Index: 1500 entries, 0 to 1499\n",
      "Data columns (total 8 columns):\n",
      " #   Column           Non-Null Count  Dtype  \n",
      "---  ------           --------------  -----  \n",
      " 0   owned            1500 non-null   int64  \n",
      " 1   make_model       1500 non-null   object \n",
      " 2   review_month     1500 non-null   object \n",
      " 3   web_browser      1500 non-null   object \n",
      " 4   reviewer_age     1500 non-null   float64\n",
      " 5   primary_use      1500 non-null   object \n",
      " 6   value_for_money  1500 non-null   object \n",
      " 7   overall_rating   1500 non-null   float64\n",
      "dtypes: float64(2), int64(1), object(5)\n",
      "memory usage: 105.5+ KB\n"
     ]
    }
   ],
   "source": [
    "df.info()"
   ]
  },
  {
   "cell_type": "code",
   "execution_count": 28,
   "metadata": {},
   "outputs": [
    {
     "data": {
      "text/plain": [
       "(1500, 8)"
      ]
     },
     "execution_count": 28,
     "metadata": {},
     "output_type": "execute_result"
    }
   ],
   "source": [
    "df.shape"
   ]
  },
  {
   "cell_type": "code",
   "execution_count": 30,
   "metadata": {},
   "outputs": [
    {
     "data": {
      "text/html": [
       "<div>\n",
       "<style scoped>\n",
       "    .dataframe tbody tr th:only-of-type {\n",
       "        vertical-align: middle;\n",
       "    }\n",
       "\n",
       "    .dataframe tbody tr th {\n",
       "        vertical-align: top;\n",
       "    }\n",
       "\n",
       "    .dataframe thead th {\n",
       "        text-align: right;\n",
       "    }\n",
       "</style>\n",
       "<table border=\"1\" class=\"dataframe\">\n",
       "  <thead>\n",
       "    <tr style=\"text-align: right;\">\n",
       "      <th></th>\n",
       "      <th>owned</th>\n",
       "      <th>reviewer_age</th>\n",
       "      <th>overall_rating</th>\n",
       "    </tr>\n",
       "  </thead>\n",
       "  <tbody>\n",
       "    <tr>\n",
       "      <th>count</th>\n",
       "      <td>1500.000000</td>\n",
       "      <td>1500.000000</td>\n",
       "      <td>1500.000000</td>\n",
       "    </tr>\n",
       "    <tr>\n",
       "      <th>mean</th>\n",
       "      <td>0.593333</td>\n",
       "      <td>32.597849</td>\n",
       "      <td>17.138907</td>\n",
       "    </tr>\n",
       "    <tr>\n",
       "      <th>std</th>\n",
       "      <td>0.491375</td>\n",
       "      <td>9.875590</td>\n",
       "      <td>2.445566</td>\n",
       "    </tr>\n",
       "    <tr>\n",
       "      <th>min</th>\n",
       "      <td>0.000000</td>\n",
       "      <td>16.000000</td>\n",
       "      <td>11.690000</td>\n",
       "    </tr>\n",
       "    <tr>\n",
       "      <th>25%</th>\n",
       "      <td>0.000000</td>\n",
       "      <td>24.000000</td>\n",
       "      <td>15.320000</td>\n",
       "    </tr>\n",
       "    <tr>\n",
       "      <th>50%</th>\n",
       "      <td>1.000000</td>\n",
       "      <td>32.597849</td>\n",
       "      <td>18.240000</td>\n",
       "    </tr>\n",
       "    <tr>\n",
       "      <th>75%</th>\n",
       "      <td>1.000000</td>\n",
       "      <td>41.000000</td>\n",
       "      <td>18.840000</td>\n",
       "    </tr>\n",
       "    <tr>\n",
       "      <th>max</th>\n",
       "      <td>1.000000</td>\n",
       "      <td>50.000000</td>\n",
       "      <td>22.760000</td>\n",
       "    </tr>\n",
       "  </tbody>\n",
       "</table>\n",
       "</div>"
      ],
      "text/plain": [
       "             owned  reviewer_age  overall_rating\n",
       "count  1500.000000   1500.000000     1500.000000\n",
       "mean      0.593333     32.597849       17.138907\n",
       "std       0.491375      9.875590        2.445566\n",
       "min       0.000000     16.000000       11.690000\n",
       "25%       0.000000     24.000000       15.320000\n",
       "50%       1.000000     32.597849       18.240000\n",
       "75%       1.000000     41.000000       18.840000\n",
       "max       1.000000     50.000000       22.760000"
      ]
     },
     "execution_count": 30,
     "metadata": {},
     "output_type": "execute_result"
    }
   ],
   "source": [
    "df.describe()"
   ]
  },
  {
   "cell_type": "code",
   "execution_count": 54,
   "metadata": {},
   "outputs": [
    {
     "data": {
      "text/plain": [
       "owned                0\n",
       "make_model           0\n",
       "review_month         0\n",
       "web_browser        150\n",
       "reviewer_age         0\n",
       "primary_use          0\n",
       "value_for_money      0\n",
       "overall_rating       0\n",
       "dtype: int64"
      ]
     },
     "execution_count": 54,
     "metadata": {},
     "output_type": "execute_result"
    }
   ],
   "source": [
    "df.isnull().sum()"
   ]
  },
  {
   "cell_type": "code",
   "execution_count": 55,
   "metadata": {},
   "outputs": [
    {
     "data": {
      "text/plain": [
       "owned                0\n",
       "make_model           0\n",
       "review_month         0\n",
       "web_browser        150\n",
       "reviewer_age         0\n",
       "primary_use          0\n",
       "value_for_money      0\n",
       "overall_rating       0\n",
       "dtype: int64"
      ]
     },
     "execution_count": 55,
     "metadata": {},
     "output_type": "execute_result"
    }
   ],
   "source": [
    "# Get Number of missing values in each column\n",
    "df.isna().sum()"
   ]
  },
  {
   "cell_type": "code",
   "execution_count": 9,
   "metadata": {},
   "outputs": [
    {
     "data": {
      "text/html": [
       "<div>\n",
       "<style scoped>\n",
       "    .dataframe tbody tr th:only-of-type {\n",
       "        vertical-align: middle;\n",
       "    }\n",
       "\n",
       "    .dataframe tbody tr th {\n",
       "        vertical-align: top;\n",
       "    }\n",
       "\n",
       "    .dataframe thead th {\n",
       "        text-align: right;\n",
       "    }\n",
       "</style>\n",
       "<table border=\"1\" class=\"dataframe\">\n",
       "  <thead>\n",
       "    <tr style=\"text-align: right;\">\n",
       "      <th></th>\n",
       "      <th>owned</th>\n",
       "      <th>make_model</th>\n",
       "      <th>review_month</th>\n",
       "      <th>web_browser</th>\n",
       "      <th>reviewer_age</th>\n",
       "      <th>primary_use</th>\n",
       "      <th>value_for_money</th>\n",
       "      <th>overall_rating</th>\n",
       "    </tr>\n",
       "  </thead>\n",
       "  <tbody>\n",
       "    <tr>\n",
       "      <th>0</th>\n",
       "      <td>1</td>\n",
       "      <td>Nielah-Eyden</td>\n",
       "      <td>Oct</td>\n",
       "      <td>Chrome</td>\n",
       "      <td>23</td>\n",
       "      <td>Commuting</td>\n",
       "      <td>5/10</td>\n",
       "      <td>18.62</td>\n",
       "    </tr>\n",
       "    <tr>\n",
       "      <th>1</th>\n",
       "      <td>0</td>\n",
       "      <td>Nielah-Keetra</td>\n",
       "      <td>Jun</td>\n",
       "      <td>NaN</td>\n",
       "      <td>24</td>\n",
       "      <td>Commuting</td>\n",
       "      <td>4/10</td>\n",
       "      <td>15.55</td>\n",
       "    </tr>\n",
       "    <tr>\n",
       "      <th>2</th>\n",
       "      <td>0</td>\n",
       "      <td>Lunna-Keetra</td>\n",
       "      <td>23-Oct</td>\n",
       "      <td>Chrome</td>\n",
       "      <td>28</td>\n",
       "      <td>Commuting</td>\n",
       "      <td>5/10</td>\n",
       "      <td>12.76</td>\n",
       "    </tr>\n",
       "    <tr>\n",
       "      <th>3</th>\n",
       "      <td>1</td>\n",
       "      <td>Hoang-Keetra</td>\n",
       "      <td>07-Nov</td>\n",
       "      <td>IE</td>\n",
       "      <td>41</td>\n",
       "      <td>Leisure</td>\n",
       "      <td>5/10</td>\n",
       "      <td>17.07</td>\n",
       "    </tr>\n",
       "    <tr>\n",
       "      <th>4</th>\n",
       "      <td>1</td>\n",
       "      <td>Lunna-Keetra</td>\n",
       "      <td>16-Sep</td>\n",
       "      <td>Chrome</td>\n",
       "      <td>33</td>\n",
       "      <td>Leisure</td>\n",
       "      <td>5/10</td>\n",
       "      <td>12.29</td>\n",
       "    </tr>\n",
       "  </tbody>\n",
       "</table>\n",
       "</div>"
      ],
      "text/plain": [
       "   owned     make_model review_month web_browser reviewer_age primary_use  \\\n",
       "0      1   Nielah-Eyden          Oct      Chrome           23   Commuting   \n",
       "1      0  Nielah-Keetra          Jun         NaN           24   Commuting   \n",
       "2      0   Lunna-Keetra       23-Oct      Chrome           28   Commuting   \n",
       "3      1   Hoang-Keetra       07-Nov          IE           41     Leisure   \n",
       "4      1   Lunna-Keetra       16-Sep      Chrome           33     Leisure   \n",
       "\n",
       "  value_for_money  overall_rating  \n",
       "0            5/10           18.62  \n",
       "1            4/10           15.55  \n",
       "2            5/10           12.76  \n",
       "3            5/10           17.07  \n",
       "4            5/10           12.29  "
      ]
     },
     "execution_count": 9,
     "metadata": {},
     "output_type": "execute_result"
    }
   ],
   "source": [
    "# Remove missing values in the 'owned' column\n",
    "df.dropna(subset=['owned'], inplace=True)\n",
    "df.head()"
   ]
  },
  {
   "cell_type": "code",
   "execution_count": 10,
   "metadata": {},
   "outputs": [],
   "source": [
    "# Replace missing values in the 'make_model' column with 'unknown'\n",
    "df['make_model'].fillna('unknown', inplace=True)"
   ]
  },
  {
   "cell_type": "code",
   "execution_count": 11,
   "metadata": {},
   "outputs": [],
   "source": [
    "# Replace missing values in the 'review_month' column with 'unknown'\n",
    "df['review_month'].fillna('unknown', inplace=True)"
   ]
  },
  {
   "cell_type": "code",
   "execution_count": 12,
   "metadata": {},
   "outputs": [],
   "source": [
    "# Replace missing values in the 'web_browser' column with 'unknown'\n",
    "df['web_browser'].fillna('unknown', inplace=True)"
   ]
  },
  {
   "cell_type": "code",
   "execution_count": 17,
   "metadata": {},
   "outputs": [
    {
     "name": "stdout",
     "output_type": "stream",
     "text": [
      "float64\n"
     ]
    }
   ],
   "source": [
    "print(df['reviewer_age'].dtypes)"
   ]
  },
  {
   "cell_type": "code",
   "execution_count": 16,
   "metadata": {},
   "outputs": [],
   "source": [
    "df['reviewer_age'] = pd.to_numeric(df['reviewer_age'], errors='coerce')"
   ]
  },
  {
   "cell_type": "code",
   "execution_count": 18,
   "metadata": {},
   "outputs": [],
   "source": [
    "# Replace missing values in the 'reviewer_age' column with the average age\n",
    "avg_age = df['reviewer_age'].mean()\n",
    "df['reviewer_age'].fillna(avg_age, inplace=True)"
   ]
  },
  {
   "cell_type": "code",
   "execution_count": 19,
   "metadata": {},
   "outputs": [],
   "source": [
    "# Replace missing values in the 'primary_use' column with 'unknown'\n",
    "df['primary_use'].fillna('unknown', inplace=True)"
   ]
  },
  {
   "cell_type": "code",
   "execution_count": 20,
   "metadata": {},
   "outputs": [],
   "source": [
    "# Replace missing values in the 'value_for_money' column with 0\n",
    "df['value_for_money'].fillna(0, inplace=True)"
   ]
  },
  {
   "cell_type": "code",
   "execution_count": 21,
   "metadata": {},
   "outputs": [],
   "source": [
    "# Replace missing values in the 'overall_rating' column with the average rating\n",
    "avg_rating = df['overall_rating'].mean()\n",
    "df['overall_rating'].fillna(avg_rating, inplace=True)"
   ]
  },
  {
   "cell_type": "code",
   "execution_count": 22,
   "metadata": {},
   "outputs": [
    {
     "data": {
      "text/html": [
       "<div>\n",
       "<style scoped>\n",
       "    .dataframe tbody tr th:only-of-type {\n",
       "        vertical-align: middle;\n",
       "    }\n",
       "\n",
       "    .dataframe tbody tr th {\n",
       "        vertical-align: top;\n",
       "    }\n",
       "\n",
       "    .dataframe thead th {\n",
       "        text-align: right;\n",
       "    }\n",
       "</style>\n",
       "<table border=\"1\" class=\"dataframe\">\n",
       "  <thead>\n",
       "    <tr style=\"text-align: right;\">\n",
       "      <th></th>\n",
       "      <th>owned</th>\n",
       "      <th>make_model</th>\n",
       "      <th>review_month</th>\n",
       "      <th>web_browser</th>\n",
       "      <th>reviewer_age</th>\n",
       "      <th>primary_use</th>\n",
       "      <th>value_for_money</th>\n",
       "      <th>overall_rating</th>\n",
       "    </tr>\n",
       "  </thead>\n",
       "  <tbody>\n",
       "    <tr>\n",
       "      <th>0</th>\n",
       "      <td>1</td>\n",
       "      <td>Nielah-Eyden</td>\n",
       "      <td>Oct</td>\n",
       "      <td>Chrome</td>\n",
       "      <td>23.000000</td>\n",
       "      <td>Commuting</td>\n",
       "      <td>5/10</td>\n",
       "      <td>18.62</td>\n",
       "    </tr>\n",
       "    <tr>\n",
       "      <th>1</th>\n",
       "      <td>0</td>\n",
       "      <td>Nielah-Keetra</td>\n",
       "      <td>Jun</td>\n",
       "      <td>unknown</td>\n",
       "      <td>24.000000</td>\n",
       "      <td>Commuting</td>\n",
       "      <td>4/10</td>\n",
       "      <td>15.55</td>\n",
       "    </tr>\n",
       "    <tr>\n",
       "      <th>2</th>\n",
       "      <td>0</td>\n",
       "      <td>Lunna-Keetra</td>\n",
       "      <td>23-Oct</td>\n",
       "      <td>Chrome</td>\n",
       "      <td>28.000000</td>\n",
       "      <td>Commuting</td>\n",
       "      <td>5/10</td>\n",
       "      <td>12.76</td>\n",
       "    </tr>\n",
       "    <tr>\n",
       "      <th>3</th>\n",
       "      <td>1</td>\n",
       "      <td>Hoang-Keetra</td>\n",
       "      <td>07-Nov</td>\n",
       "      <td>IE</td>\n",
       "      <td>41.000000</td>\n",
       "      <td>Leisure</td>\n",
       "      <td>5/10</td>\n",
       "      <td>17.07</td>\n",
       "    </tr>\n",
       "    <tr>\n",
       "      <th>4</th>\n",
       "      <td>1</td>\n",
       "      <td>Lunna-Keetra</td>\n",
       "      <td>16-Sep</td>\n",
       "      <td>Chrome</td>\n",
       "      <td>33.000000</td>\n",
       "      <td>Leisure</td>\n",
       "      <td>5/10</td>\n",
       "      <td>12.29</td>\n",
       "    </tr>\n",
       "    <tr>\n",
       "      <th>...</th>\n",
       "      <td>...</td>\n",
       "      <td>...</td>\n",
       "      <td>...</td>\n",
       "      <td>...</td>\n",
       "      <td>...</td>\n",
       "      <td>...</td>\n",
       "      <td>...</td>\n",
       "      <td>...</td>\n",
       "    </tr>\n",
       "    <tr>\n",
       "      <th>1495</th>\n",
       "      <td>1</td>\n",
       "      <td>Nielah-Eyden</td>\n",
       "      <td>18-May</td>\n",
       "      <td>Chrome</td>\n",
       "      <td>32.597849</td>\n",
       "      <td>Leisure</td>\n",
       "      <td>6/10</td>\n",
       "      <td>18.76</td>\n",
       "    </tr>\n",
       "    <tr>\n",
       "      <th>1496</th>\n",
       "      <td>1</td>\n",
       "      <td>Nielah-Eyden</td>\n",
       "      <td>11-Mar</td>\n",
       "      <td>unknown</td>\n",
       "      <td>39.000000</td>\n",
       "      <td>Commuting</td>\n",
       "      <td>5/10</td>\n",
       "      <td>18.56</td>\n",
       "    </tr>\n",
       "    <tr>\n",
       "      <th>1497</th>\n",
       "      <td>1</td>\n",
       "      <td>Nielah-Eyden</td>\n",
       "      <td>10-Nov</td>\n",
       "      <td>Chrome</td>\n",
       "      <td>21.000000</td>\n",
       "      <td>Commuting</td>\n",
       "      <td>8/10</td>\n",
       "      <td>20.22</td>\n",
       "    </tr>\n",
       "    <tr>\n",
       "      <th>1498</th>\n",
       "      <td>0</td>\n",
       "      <td>Nielah-Eyden</td>\n",
       "      <td>Nov</td>\n",
       "      <td>Safari</td>\n",
       "      <td>45.000000</td>\n",
       "      <td>Commuting</td>\n",
       "      <td>3/10</td>\n",
       "      <td>18.51</td>\n",
       "    </tr>\n",
       "    <tr>\n",
       "      <th>1499</th>\n",
       "      <td>1</td>\n",
       "      <td>Hoang-Eyden</td>\n",
       "      <td>Jul</td>\n",
       "      <td>IE</td>\n",
       "      <td>37.000000</td>\n",
       "      <td>Leisure</td>\n",
       "      <td>3/10</td>\n",
       "      <td>20.47</td>\n",
       "    </tr>\n",
       "  </tbody>\n",
       "</table>\n",
       "<p>1500 rows × 8 columns</p>\n",
       "</div>"
      ],
      "text/plain": [
       "      owned     make_model review_month web_browser  reviewer_age primary_use  \\\n",
       "0         1   Nielah-Eyden          Oct      Chrome     23.000000   Commuting   \n",
       "1         0  Nielah-Keetra          Jun     unknown     24.000000   Commuting   \n",
       "2         0   Lunna-Keetra       23-Oct      Chrome     28.000000   Commuting   \n",
       "3         1   Hoang-Keetra       07-Nov          IE     41.000000     Leisure   \n",
       "4         1   Lunna-Keetra       16-Sep      Chrome     33.000000     Leisure   \n",
       "...     ...            ...          ...         ...           ...         ...   \n",
       "1495      1   Nielah-Eyden       18-May      Chrome     32.597849     Leisure   \n",
       "1496      1   Nielah-Eyden       11-Mar     unknown     39.000000   Commuting   \n",
       "1497      1   Nielah-Eyden       10-Nov      Chrome     21.000000   Commuting   \n",
       "1498      0   Nielah-Eyden          Nov      Safari     45.000000   Commuting   \n",
       "1499      1    Hoang-Eyden          Jul          IE     37.000000     Leisure   \n",
       "\n",
       "     value_for_money  overall_rating  \n",
       "0               5/10           18.62  \n",
       "1               4/10           15.55  \n",
       "2               5/10           12.76  \n",
       "3               5/10           17.07  \n",
       "4               5/10           12.29  \n",
       "...              ...             ...  \n",
       "1495            6/10           18.76  \n",
       "1496            5/10           18.56  \n",
       "1497            8/10           20.22  \n",
       "1498            3/10           18.51  \n",
       "1499            3/10           20.47  \n",
       "\n",
       "[1500 rows x 8 columns]"
      ]
     },
     "execution_count": 22,
     "metadata": {},
     "output_type": "execute_result"
    }
   ],
   "source": [
    "df['reviewer_age'] = pd.to_numeric(df['reviewer_age'], errors='coerce')"
   ]
  },
  {
   "cell_type": "code",
   "execution_count": 23,
   "metadata": {},
   "outputs": [
    {
     "data": {
      "text/plain": [
       "6"
      ]
     },
     "execution_count": 23,
     "metadata": {},
     "output_type": "execute_result"
    }
   ],
   "source": [
    "df['make_model'].nunique()"
   ]
  },
  {
   "cell_type": "code",
   "execution_count": 24,
   "metadata": {},
   "outputs": [
    {
     "data": {
      "text/plain": [
       "332"
      ]
     },
     "execution_count": 24,
     "metadata": {},
     "output_type": "execute_result"
    }
   ],
   "source": [
    "df['review_month'].nunique()"
   ]
  },
  {
   "attachments": {},
   "cell_type": "markdown",
   "metadata": {},
   "source": [
    "As we can see there are 332 different values instead of 12(Jan-Dec)"
   ]
  },
  {
   "cell_type": "code",
   "execution_count": 25,
   "metadata": {},
   "outputs": [
    {
     "data": {
      "text/html": [
       "<div>\n",
       "<style scoped>\n",
       "    .dataframe tbody tr th:only-of-type {\n",
       "        vertical-align: middle;\n",
       "    }\n",
       "\n",
       "    .dataframe tbody tr th {\n",
       "        vertical-align: top;\n",
       "    }\n",
       "\n",
       "    .dataframe thead th {\n",
       "        text-align: right;\n",
       "    }\n",
       "</style>\n",
       "<table border=\"1\" class=\"dataframe\">\n",
       "  <thead>\n",
       "    <tr style=\"text-align: right;\">\n",
       "      <th></th>\n",
       "      <th>owned</th>\n",
       "      <th>make_model</th>\n",
       "      <th>review_month</th>\n",
       "      <th>web_browser</th>\n",
       "      <th>reviewer_age</th>\n",
       "      <th>primary_use</th>\n",
       "      <th>value_for_money</th>\n",
       "      <th>overall_rating</th>\n",
       "    </tr>\n",
       "  </thead>\n",
       "  <tbody>\n",
       "    <tr>\n",
       "      <th>0</th>\n",
       "      <td>1</td>\n",
       "      <td>Nielah-Eyden</td>\n",
       "      <td>NaN</td>\n",
       "      <td>Chrome</td>\n",
       "      <td>23.000000</td>\n",
       "      <td>Commuting</td>\n",
       "      <td>5/10</td>\n",
       "      <td>18.62</td>\n",
       "    </tr>\n",
       "    <tr>\n",
       "      <th>1</th>\n",
       "      <td>0</td>\n",
       "      <td>Nielah-Keetra</td>\n",
       "      <td>NaN</td>\n",
       "      <td>unknown</td>\n",
       "      <td>24.000000</td>\n",
       "      <td>Commuting</td>\n",
       "      <td>4/10</td>\n",
       "      <td>15.55</td>\n",
       "    </tr>\n",
       "    <tr>\n",
       "      <th>2</th>\n",
       "      <td>0</td>\n",
       "      <td>Lunna-Keetra</td>\n",
       "      <td>Oct</td>\n",
       "      <td>Chrome</td>\n",
       "      <td>28.000000</td>\n",
       "      <td>Commuting</td>\n",
       "      <td>5/10</td>\n",
       "      <td>12.76</td>\n",
       "    </tr>\n",
       "    <tr>\n",
       "      <th>3</th>\n",
       "      <td>1</td>\n",
       "      <td>Hoang-Keetra</td>\n",
       "      <td>Nov</td>\n",
       "      <td>IE</td>\n",
       "      <td>41.000000</td>\n",
       "      <td>Leisure</td>\n",
       "      <td>5/10</td>\n",
       "      <td>17.07</td>\n",
       "    </tr>\n",
       "    <tr>\n",
       "      <th>4</th>\n",
       "      <td>1</td>\n",
       "      <td>Lunna-Keetra</td>\n",
       "      <td>Sep</td>\n",
       "      <td>Chrome</td>\n",
       "      <td>33.000000</td>\n",
       "      <td>Leisure</td>\n",
       "      <td>5/10</td>\n",
       "      <td>12.29</td>\n",
       "    </tr>\n",
       "    <tr>\n",
       "      <th>...</th>\n",
       "      <td>...</td>\n",
       "      <td>...</td>\n",
       "      <td>...</td>\n",
       "      <td>...</td>\n",
       "      <td>...</td>\n",
       "      <td>...</td>\n",
       "      <td>...</td>\n",
       "      <td>...</td>\n",
       "    </tr>\n",
       "    <tr>\n",
       "      <th>1495</th>\n",
       "      <td>1</td>\n",
       "      <td>Nielah-Eyden</td>\n",
       "      <td>May</td>\n",
       "      <td>Chrome</td>\n",
       "      <td>32.597849</td>\n",
       "      <td>Leisure</td>\n",
       "      <td>6/10</td>\n",
       "      <td>18.76</td>\n",
       "    </tr>\n",
       "    <tr>\n",
       "      <th>1496</th>\n",
       "      <td>1</td>\n",
       "      <td>Nielah-Eyden</td>\n",
       "      <td>Mar</td>\n",
       "      <td>unknown</td>\n",
       "      <td>39.000000</td>\n",
       "      <td>Commuting</td>\n",
       "      <td>5/10</td>\n",
       "      <td>18.56</td>\n",
       "    </tr>\n",
       "    <tr>\n",
       "      <th>1497</th>\n",
       "      <td>1</td>\n",
       "      <td>Nielah-Eyden</td>\n",
       "      <td>Nov</td>\n",
       "      <td>Chrome</td>\n",
       "      <td>21.000000</td>\n",
       "      <td>Commuting</td>\n",
       "      <td>8/10</td>\n",
       "      <td>20.22</td>\n",
       "    </tr>\n",
       "    <tr>\n",
       "      <th>1498</th>\n",
       "      <td>0</td>\n",
       "      <td>Nielah-Eyden</td>\n",
       "      <td>NaN</td>\n",
       "      <td>Safari</td>\n",
       "      <td>45.000000</td>\n",
       "      <td>Commuting</td>\n",
       "      <td>3/10</td>\n",
       "      <td>18.51</td>\n",
       "    </tr>\n",
       "    <tr>\n",
       "      <th>1499</th>\n",
       "      <td>1</td>\n",
       "      <td>Hoang-Eyden</td>\n",
       "      <td>NaN</td>\n",
       "      <td>IE</td>\n",
       "      <td>37.000000</td>\n",
       "      <td>Leisure</td>\n",
       "      <td>3/10</td>\n",
       "      <td>20.47</td>\n",
       "    </tr>\n",
       "  </tbody>\n",
       "</table>\n",
       "<p>1500 rows × 8 columns</p>\n",
       "</div>"
      ],
      "text/plain": [
       "      owned     make_model review_month web_browser  reviewer_age primary_use  \\\n",
       "0         1   Nielah-Eyden          NaN      Chrome     23.000000   Commuting   \n",
       "1         0  Nielah-Keetra          NaN     unknown     24.000000   Commuting   \n",
       "2         0   Lunna-Keetra          Oct      Chrome     28.000000   Commuting   \n",
       "3         1   Hoang-Keetra          Nov          IE     41.000000     Leisure   \n",
       "4         1   Lunna-Keetra          Sep      Chrome     33.000000     Leisure   \n",
       "...     ...            ...          ...         ...           ...         ...   \n",
       "1495      1   Nielah-Eyden          May      Chrome     32.597849     Leisure   \n",
       "1496      1   Nielah-Eyden          Mar     unknown     39.000000   Commuting   \n",
       "1497      1   Nielah-Eyden          Nov      Chrome     21.000000   Commuting   \n",
       "1498      0   Nielah-Eyden          NaN      Safari     45.000000   Commuting   \n",
       "1499      1    Hoang-Eyden          NaN          IE     37.000000     Leisure   \n",
       "\n",
       "     value_for_money  overall_rating  \n",
       "0               5/10           18.62  \n",
       "1               4/10           15.55  \n",
       "2               5/10           12.76  \n",
       "3               5/10           17.07  \n",
       "4               5/10           12.29  \n",
       "...              ...             ...  \n",
       "1495            6/10           18.76  \n",
       "1496            5/10           18.56  \n",
       "1497            8/10           20.22  \n",
       "1498            3/10           18.51  \n",
       "1499            3/10           20.47  \n",
       "\n",
       "[1500 rows x 8 columns]"
      ]
     },
     "execution_count": 25,
     "metadata": {},
     "output_type": "execute_result"
    }
   ],
   "source": [
    "df['review_month'] = df['review_month'].str.split('-').str[1]\n",
    "df"
   ]
  },
  {
   "cell_type": "code",
   "execution_count": 26,
   "metadata": {},
   "outputs": [
    {
     "data": {
      "text/html": [
       "<div>\n",
       "<style scoped>\n",
       "    .dataframe tbody tr th:only-of-type {\n",
       "        vertical-align: middle;\n",
       "    }\n",
       "\n",
       "    .dataframe tbody tr th {\n",
       "        vertical-align: top;\n",
       "    }\n",
       "\n",
       "    .dataframe thead th {\n",
       "        text-align: right;\n",
       "    }\n",
       "</style>\n",
       "<table border=\"1\" class=\"dataframe\">\n",
       "  <thead>\n",
       "    <tr style=\"text-align: right;\">\n",
       "      <th></th>\n",
       "      <th>owned</th>\n",
       "      <th>make_model</th>\n",
       "      <th>review_month</th>\n",
       "      <th>web_browser</th>\n",
       "      <th>reviewer_age</th>\n",
       "      <th>primary_use</th>\n",
       "      <th>value_for_money</th>\n",
       "      <th>overall_rating</th>\n",
       "    </tr>\n",
       "  </thead>\n",
       "  <tbody>\n",
       "    <tr>\n",
       "      <th>0</th>\n",
       "      <td>1</td>\n",
       "      <td>Nielah-Eyden</td>\n",
       "      <td>unknown</td>\n",
       "      <td>Chrome</td>\n",
       "      <td>23.000000</td>\n",
       "      <td>Commuting</td>\n",
       "      <td>5/10</td>\n",
       "      <td>18.62</td>\n",
       "    </tr>\n",
       "    <tr>\n",
       "      <th>1</th>\n",
       "      <td>0</td>\n",
       "      <td>Nielah-Keetra</td>\n",
       "      <td>unknown</td>\n",
       "      <td>unknown</td>\n",
       "      <td>24.000000</td>\n",
       "      <td>Commuting</td>\n",
       "      <td>4/10</td>\n",
       "      <td>15.55</td>\n",
       "    </tr>\n",
       "    <tr>\n",
       "      <th>2</th>\n",
       "      <td>0</td>\n",
       "      <td>Lunna-Keetra</td>\n",
       "      <td>Oct</td>\n",
       "      <td>Chrome</td>\n",
       "      <td>28.000000</td>\n",
       "      <td>Commuting</td>\n",
       "      <td>5/10</td>\n",
       "      <td>12.76</td>\n",
       "    </tr>\n",
       "    <tr>\n",
       "      <th>3</th>\n",
       "      <td>1</td>\n",
       "      <td>Hoang-Keetra</td>\n",
       "      <td>Nov</td>\n",
       "      <td>IE</td>\n",
       "      <td>41.000000</td>\n",
       "      <td>Leisure</td>\n",
       "      <td>5/10</td>\n",
       "      <td>17.07</td>\n",
       "    </tr>\n",
       "    <tr>\n",
       "      <th>4</th>\n",
       "      <td>1</td>\n",
       "      <td>Lunna-Keetra</td>\n",
       "      <td>Sep</td>\n",
       "      <td>Chrome</td>\n",
       "      <td>33.000000</td>\n",
       "      <td>Leisure</td>\n",
       "      <td>5/10</td>\n",
       "      <td>12.29</td>\n",
       "    </tr>\n",
       "    <tr>\n",
       "      <th>...</th>\n",
       "      <td>...</td>\n",
       "      <td>...</td>\n",
       "      <td>...</td>\n",
       "      <td>...</td>\n",
       "      <td>...</td>\n",
       "      <td>...</td>\n",
       "      <td>...</td>\n",
       "      <td>...</td>\n",
       "    </tr>\n",
       "    <tr>\n",
       "      <th>1495</th>\n",
       "      <td>1</td>\n",
       "      <td>Nielah-Eyden</td>\n",
       "      <td>May</td>\n",
       "      <td>Chrome</td>\n",
       "      <td>32.597849</td>\n",
       "      <td>Leisure</td>\n",
       "      <td>6/10</td>\n",
       "      <td>18.76</td>\n",
       "    </tr>\n",
       "    <tr>\n",
       "      <th>1496</th>\n",
       "      <td>1</td>\n",
       "      <td>Nielah-Eyden</td>\n",
       "      <td>Mar</td>\n",
       "      <td>unknown</td>\n",
       "      <td>39.000000</td>\n",
       "      <td>Commuting</td>\n",
       "      <td>5/10</td>\n",
       "      <td>18.56</td>\n",
       "    </tr>\n",
       "    <tr>\n",
       "      <th>1497</th>\n",
       "      <td>1</td>\n",
       "      <td>Nielah-Eyden</td>\n",
       "      <td>Nov</td>\n",
       "      <td>Chrome</td>\n",
       "      <td>21.000000</td>\n",
       "      <td>Commuting</td>\n",
       "      <td>8/10</td>\n",
       "      <td>20.22</td>\n",
       "    </tr>\n",
       "    <tr>\n",
       "      <th>1498</th>\n",
       "      <td>0</td>\n",
       "      <td>Nielah-Eyden</td>\n",
       "      <td>unknown</td>\n",
       "      <td>Safari</td>\n",
       "      <td>45.000000</td>\n",
       "      <td>Commuting</td>\n",
       "      <td>3/10</td>\n",
       "      <td>18.51</td>\n",
       "    </tr>\n",
       "    <tr>\n",
       "      <th>1499</th>\n",
       "      <td>1</td>\n",
       "      <td>Hoang-Eyden</td>\n",
       "      <td>unknown</td>\n",
       "      <td>IE</td>\n",
       "      <td>37.000000</td>\n",
       "      <td>Leisure</td>\n",
       "      <td>3/10</td>\n",
       "      <td>20.47</td>\n",
       "    </tr>\n",
       "  </tbody>\n",
       "</table>\n",
       "<p>1500 rows × 8 columns</p>\n",
       "</div>"
      ],
      "text/plain": [
       "      owned     make_model review_month web_browser  reviewer_age primary_use  \\\n",
       "0         1   Nielah-Eyden      unknown      Chrome     23.000000   Commuting   \n",
       "1         0  Nielah-Keetra      unknown     unknown     24.000000   Commuting   \n",
       "2         0   Lunna-Keetra          Oct      Chrome     28.000000   Commuting   \n",
       "3         1   Hoang-Keetra          Nov          IE     41.000000     Leisure   \n",
       "4         1   Lunna-Keetra          Sep      Chrome     33.000000     Leisure   \n",
       "...     ...            ...          ...         ...           ...         ...   \n",
       "1495      1   Nielah-Eyden          May      Chrome     32.597849     Leisure   \n",
       "1496      1   Nielah-Eyden          Mar     unknown     39.000000   Commuting   \n",
       "1497      1   Nielah-Eyden          Nov      Chrome     21.000000   Commuting   \n",
       "1498      0   Nielah-Eyden      unknown      Safari     45.000000   Commuting   \n",
       "1499      1    Hoang-Eyden      unknown          IE     37.000000     Leisure   \n",
       "\n",
       "     value_for_money  overall_rating  \n",
       "0               5/10           18.62  \n",
       "1               4/10           15.55  \n",
       "2               5/10           12.76  \n",
       "3               5/10           17.07  \n",
       "4               5/10           12.29  \n",
       "...              ...             ...  \n",
       "1495            6/10           18.76  \n",
       "1496            5/10           18.56  \n",
       "1497            8/10           20.22  \n",
       "1498            3/10           18.51  \n",
       "1499            3/10           20.47  \n",
       "\n",
       "[1500 rows x 8 columns]"
      ]
     },
     "execution_count": 26,
     "metadata": {},
     "output_type": "execute_result"
    }
   ],
   "source": [
    "# Replace NaN values in review_month with 'unknown'\n",
    "df['review_month'].fillna('unknown', inplace=True)\n",
    "df"
   ]
  },
  {
   "cell_type": "code",
   "execution_count": 32,
   "metadata": {},
   "outputs": [
    {
     "data": {
      "text/html": [
       "<div>\n",
       "<style scoped>\n",
       "    .dataframe tbody tr th:only-of-type {\n",
       "        vertical-align: middle;\n",
       "    }\n",
       "\n",
       "    .dataframe tbody tr th {\n",
       "        vertical-align: top;\n",
       "    }\n",
       "\n",
       "    .dataframe thead th {\n",
       "        text-align: right;\n",
       "    }\n",
       "</style>\n",
       "<table border=\"1\" class=\"dataframe\">\n",
       "  <thead>\n",
       "    <tr style=\"text-align: right;\">\n",
       "      <th></th>\n",
       "      <th>owned</th>\n",
       "      <th>make_model</th>\n",
       "      <th>review_month</th>\n",
       "      <th>web_browser</th>\n",
       "      <th>reviewer_age</th>\n",
       "      <th>primary_use</th>\n",
       "      <th>value_for_money</th>\n",
       "      <th>overall_rating</th>\n",
       "    </tr>\n",
       "  </thead>\n",
       "  <tbody>\n",
       "    <tr>\n",
       "      <th>0</th>\n",
       "      <td>1</td>\n",
       "      <td>Nielah-Eyden</td>\n",
       "      <td>unknown</td>\n",
       "      <td>Chrome</td>\n",
       "      <td>23</td>\n",
       "      <td>Commuting</td>\n",
       "      <td>5/10</td>\n",
       "      <td>18.62</td>\n",
       "    </tr>\n",
       "    <tr>\n",
       "      <th>1</th>\n",
       "      <td>0</td>\n",
       "      <td>Nielah-Keetra</td>\n",
       "      <td>unknown</td>\n",
       "      <td>unknown</td>\n",
       "      <td>24</td>\n",
       "      <td>Commuting</td>\n",
       "      <td>4/10</td>\n",
       "      <td>15.55</td>\n",
       "    </tr>\n",
       "    <tr>\n",
       "      <th>2</th>\n",
       "      <td>0</td>\n",
       "      <td>Lunna-Keetra</td>\n",
       "      <td>Oct</td>\n",
       "      <td>Chrome</td>\n",
       "      <td>28</td>\n",
       "      <td>Commuting</td>\n",
       "      <td>5/10</td>\n",
       "      <td>12.76</td>\n",
       "    </tr>\n",
       "    <tr>\n",
       "      <th>3</th>\n",
       "      <td>1</td>\n",
       "      <td>Hoang-Keetra</td>\n",
       "      <td>Nov</td>\n",
       "      <td>IE</td>\n",
       "      <td>41</td>\n",
       "      <td>Leisure</td>\n",
       "      <td>5/10</td>\n",
       "      <td>17.07</td>\n",
       "    </tr>\n",
       "    <tr>\n",
       "      <th>4</th>\n",
       "      <td>1</td>\n",
       "      <td>Lunna-Keetra</td>\n",
       "      <td>Sep</td>\n",
       "      <td>Chrome</td>\n",
       "      <td>33</td>\n",
       "      <td>Leisure</td>\n",
       "      <td>5/10</td>\n",
       "      <td>12.29</td>\n",
       "    </tr>\n",
       "    <tr>\n",
       "      <th>...</th>\n",
       "      <td>...</td>\n",
       "      <td>...</td>\n",
       "      <td>...</td>\n",
       "      <td>...</td>\n",
       "      <td>...</td>\n",
       "      <td>...</td>\n",
       "      <td>...</td>\n",
       "      <td>...</td>\n",
       "    </tr>\n",
       "    <tr>\n",
       "      <th>1495</th>\n",
       "      <td>1</td>\n",
       "      <td>Nielah-Eyden</td>\n",
       "      <td>May</td>\n",
       "      <td>Chrome</td>\n",
       "      <td>32</td>\n",
       "      <td>Leisure</td>\n",
       "      <td>6/10</td>\n",
       "      <td>18.76</td>\n",
       "    </tr>\n",
       "    <tr>\n",
       "      <th>1496</th>\n",
       "      <td>1</td>\n",
       "      <td>Nielah-Eyden</td>\n",
       "      <td>Mar</td>\n",
       "      <td>unknown</td>\n",
       "      <td>39</td>\n",
       "      <td>Commuting</td>\n",
       "      <td>5/10</td>\n",
       "      <td>18.56</td>\n",
       "    </tr>\n",
       "    <tr>\n",
       "      <th>1497</th>\n",
       "      <td>1</td>\n",
       "      <td>Nielah-Eyden</td>\n",
       "      <td>Nov</td>\n",
       "      <td>Chrome</td>\n",
       "      <td>21</td>\n",
       "      <td>Commuting</td>\n",
       "      <td>8/10</td>\n",
       "      <td>20.22</td>\n",
       "    </tr>\n",
       "    <tr>\n",
       "      <th>1498</th>\n",
       "      <td>0</td>\n",
       "      <td>Nielah-Eyden</td>\n",
       "      <td>unknown</td>\n",
       "      <td>Safari</td>\n",
       "      <td>45</td>\n",
       "      <td>Commuting</td>\n",
       "      <td>3/10</td>\n",
       "      <td>18.51</td>\n",
       "    </tr>\n",
       "    <tr>\n",
       "      <th>1499</th>\n",
       "      <td>1</td>\n",
       "      <td>Hoang-Eyden</td>\n",
       "      <td>unknown</td>\n",
       "      <td>IE</td>\n",
       "      <td>37</td>\n",
       "      <td>Leisure</td>\n",
       "      <td>3/10</td>\n",
       "      <td>20.47</td>\n",
       "    </tr>\n",
       "  </tbody>\n",
       "</table>\n",
       "<p>1500 rows × 8 columns</p>\n",
       "</div>"
      ],
      "text/plain": [
       "      owned     make_model review_month web_browser  reviewer_age primary_use  \\\n",
       "0         1   Nielah-Eyden      unknown      Chrome            23   Commuting   \n",
       "1         0  Nielah-Keetra      unknown     unknown            24   Commuting   \n",
       "2         0   Lunna-Keetra          Oct      Chrome            28   Commuting   \n",
       "3         1   Hoang-Keetra          Nov          IE            41     Leisure   \n",
       "4         1   Lunna-Keetra          Sep      Chrome            33     Leisure   \n",
       "...     ...            ...          ...         ...           ...         ...   \n",
       "1495      1   Nielah-Eyden          May      Chrome            32     Leisure   \n",
       "1496      1   Nielah-Eyden          Mar     unknown            39   Commuting   \n",
       "1497      1   Nielah-Eyden          Nov      Chrome            21   Commuting   \n",
       "1498      0   Nielah-Eyden      unknown      Safari            45   Commuting   \n",
       "1499      1    Hoang-Eyden      unknown          IE            37     Leisure   \n",
       "\n",
       "     value_for_money  overall_rating  \n",
       "0               5/10           18.62  \n",
       "1               4/10           15.55  \n",
       "2               5/10           12.76  \n",
       "3               5/10           17.07  \n",
       "4               5/10           12.29  \n",
       "...              ...             ...  \n",
       "1495            6/10           18.76  \n",
       "1496            5/10           18.56  \n",
       "1497            8/10           20.22  \n",
       "1498            3/10           18.51  \n",
       "1499            3/10           20.47  \n",
       "\n",
       "[1500 rows x 8 columns]"
      ]
     },
     "execution_count": 32,
     "metadata": {},
     "output_type": "execute_result"
    }
   ],
   "source": [
    "df['reviewer_age'] = df['reviewer_age'].astype('int64')\n",
    "df"
   ]
  },
  {
   "cell_type": "code",
   "execution_count": 33,
   "metadata": {},
   "outputs": [],
   "source": [
    "df.to_csv(\"electric_bike_ratings_2212_cleaned.csv\")"
   ]
  },
  {
   "attachments": {},
   "cell_type": "markdown",
   "metadata": {},
   "source": [
    "# Visualizations"
   ]
  },
  {
   "attachments": {},
   "cell_type": "markdown",
   "metadata": {},
   "source": [
    "## Questions"
   ]
  },
  {
   "attachments": {},
   "cell_type": "markdown",
   "metadata": {},
   "source": [
    "#### Question 1 \n",
    "*For every column in the data:*\n",
    "-  State whether the values match the description given in the table above.\n",
    "-  State the number of missing values in the column\n",
    "-  Describe what you did to make values match the description if they did not\n",
    "match."
   ]
  },
  {
   "attachments": {},
   "cell_type": "markdown",
   "metadata": {},
   "source": [
    "#### Answers to Number 1\n",
    "*owned:*\n",
    "\n",
    "- Values match the description given in the table above. The column contains binary values indicating whether the review was written by an owner (1) or not (0).\n",
    "- No missing values.\n",
    "- Removed missing values.\n",
    "\n",
    "*make_model:*\n",
    "\n",
    "- Values match the description given in the table above. The description in the table indicates that this column should contain categorical values that describe the make and model of the vehicle. However, the values in this column contain both the make and model together, separated by a hyphen.\n",
    "- No missing values.\n",
    "- Replaced missing values with `unknown`.\n",
    "\n",
    "*review_month:*\n",
    "\n",
    "- Values do not match the description given in the table above. The description in the table indicates that this column should contain the month in which the review was written, represented as a three-letter abbreviation (e.g., Jan). However, the values in this column contain a mix of three-letter abbreviations (e.g., Oct) and combinations of day and month separated by a hyphen (e.g., 23-Oct).\n",
    "- No missing values.\n",
    "- Replaced missing values with unknown.\n",
    "\n",
    "*web_browser:*\n",
    "\n",
    "- Values match the description given in the table above. The column contains categorical values indicating the web browser used to write the review.\n",
    "- 150 missing values.\n",
    "- Replaced missing values with unknown.\n",
    "\n",
    "*reviewer_age:*\n",
    "\n",
    "- Values match the description given in the table above. The column contains integer values indicating the age of the reviewer.\n",
    "- No missing values.\n",
    "- Replaced missing values with average age and converted column type from object to integer.\n",
    "\n",
    "*primary_use:*\n",
    "\n",
    "- Values match the description given in the table above. The column contains categorical values indicating the primary use of the vehicle.\n",
    "- No missing values.\n",
    "- Replaced missing values with unknown.\n",
    "\n",
    "*value_for_money:*\n",
    "\n",
    "- Values do not match the description given in the table above. The description in the table indicates that this column should contain integer values that represent the reviewer's rating for value for money on a scale of 1 to 10. However, the values in this column contain ratings in the form of a fraction (e.g., 5/10).\n",
    "- No missing values.\n",
    "- Removed every string after the first integer(5/10 becomes 5) and then converted column type from object to integer\n",
    "\n",
    "*overall_rating:*\n",
    "\n",
    "- Values match the description given in the table above. The column contains decimal values indicating the reviewer's overall rating of the vehicle.\n",
    "- No missing values.\n",
    "- Replaced missing values with the average rating."
   ]
  },
  {
   "attachments": {},
   "cell_type": "markdown",
   "metadata": {},
   "source": [
    "#### Question 2\n",
    "*Create a visualization that shows how many reviews were from owners and how many\n",
    "were not owners. Use the visualization to:*\n",
    "-  State which category of the variable owned has the most number of\n",
    "observations\n",
    "-  Explain whether the observations are balanced across categories of the\n",
    "variable owned"
   ]
  },
  {
   "attachments": {},
   "cell_type": "markdown",
   "metadata": {},
   "source": [
    "#### Answers to Number 2\n",
    "a. We can see from the chart that the category of the variable owned with the most observations is owned (0).\n",
    "\n",
    "b. The observations are not balanced across categories of the variable owned. There are significantly more reviews from owners (1) than from the non-owners (0)."
   ]
  },
  {
   "cell_type": "code",
   "execution_count": 35,
   "metadata": {},
   "outputs": [
    {
     "data": {
      "image/png": "[encoded data removed]",
      "text/plain": [
       "<Figure size 640x480 with 1 Axes>"
      ]
     },
     "metadata": {},
     "output_type": "display_data"
    }
   ],
   "source": [
    "import seaborn as sns\n",
    "import matplotlib.pyplot as plt\n",
    "\n",
    "sns.countplot(x='owned', data=df)\n",
    "plt.title('Number of Reviews by Owner Status')\n",
    "plt.xlabel('Owned')\n",
    "plt.ylabel('Count')\n",
    "plt.show()"
   ]
  },
  {
   "attachments": {},
   "cell_type": "markdown",
   "metadata": {},
   "source": [
    "#### Question 3\n",
    "Describe the distribution of the overall rating across the possible values. Your answer\n",
    "must include a visualization that shows the distribution."
   ]
  },
  {
   "attachments": {},
   "cell_type": "markdown",
   "metadata": {},
   "source": [
    "#### Answers to Number 3\n",
    "Based on the histogram plot, we can see that the overall rating values are roughly normally distributed, with the majority of the ratings falling between 12 and 22."
   ]
  },
  {
   "cell_type": "code",
   "execution_count": 36,
   "metadata": {},
   "outputs": [
    {
     "data": {
      "image/png": "[encoded data removed]",
      "text/plain": [
       "<Figure size 640x480 with 1 Axes>"
      ]
     },
     "metadata": {},
     "output_type": "display_data"
    }
   ],
   "source": [
    "# plot histogram of overall rating\n",
    "plt.hist(df['overall_rating'], bins=10, color='blue', edgecolor='black')\n",
    "\n",
    "# set plot title and labels\n",
    "plt.title('Distribution of Overall Rating')\n",
    "plt.xlabel('Overall Rating')\n",
    "plt.ylabel('Frequency')\n",
    "\n",
    "# show the plot\n",
    "plt.show()\n"
   ]
  },
  {
   "attachments": {},
   "cell_type": "markdown",
   "metadata": {},
   "source": [
    "#### Question 4\n",
    "Describe the relationship between ownership and overall rating. Your answer must\n",
    "include a visualization to demonstrate the relationship."
   ]
  },
  {
   "attachments": {},
   "cell_type": "markdown",
   "metadata": {},
   "source": [
    "#### Answers to Number 4"
   ]
  },
  {
   "cell_type": "code",
   "execution_count": 37,
   "metadata": {},
   "outputs": [
    {
     "data": {
      "text/plain": [
       "<AxesSubplot: xlabel='owned', ylabel='overall_rating'>"
      ]
     },
     "execution_count": 37,
     "metadata": {},
     "output_type": "execute_result"
    },
    {
     "data": {
      "image/png": "[encoded data removed]",
      "text/plain": [
       "<Figure size 640x480 with 1 Axes>"
      ]
     },
     "metadata": {},
     "output_type": "display_data"
    }
   ],
   "source": [
    "import seaborn as sns\n",
    "\n",
    "sns.boxplot(x='owned', y='overall_rating', data=df)"
   ]
  },
  {
   "attachments": {},
   "cell_type": "markdown",
   "metadata": {},
   "source": [
    "#### Question 5\n",
    "The business wants to predict whether a review came from an owner or not using the\n",
    "data provided. State the type of machine learning problem that this is\n",
    "(regression/classification/clustering)."
   ]
  },
  {
   "attachments": {},
   "cell_type": "markdown",
   "metadata": {},
   "source": [
    "#### Answer to Number 5\n",
    "Type of machine learning problem = Classification"
   ]
  },
  {
   "attachments": {},
   "cell_type": "markdown",
   "metadata": {},
   "source": [
    "#### Question 6\n",
    "Fit a baseline model to predict whether a review came from an owner or not using the\n",
    "data provided. You must include your code."
   ]
  },
  {
   "attachments": {},
   "cell_type": "markdown",
   "metadata": {},
   "source": [
    "#### Answer to Number 6"
   ]
  },
  {
   "cell_type": "code",
   "execution_count": 38,
   "metadata": {},
   "outputs": [],
   "source": [
    "from sklearn.linear_model import LogisticRegression\n",
    "from sklearn.model_selection import train_test_split\n",
    "from sklearn.metrics import accuracy_score\n",
    "from sklearn.preprocessing import LabelEncoder\n",
    "from sklearn.metrics import classification_report"
   ]
  },
  {
   "cell_type": "code",
   "execution_count": 39,
   "metadata": {},
   "outputs": [
    {
     "data": {
      "text/html": [
       "<div>\n",
       "<style scoped>\n",
       "    .dataframe tbody tr th:only-of-type {\n",
       "        vertical-align: middle;\n",
       "    }\n",
       "\n",
       "    .dataframe tbody tr th {\n",
       "        vertical-align: top;\n",
       "    }\n",
       "\n",
       "    .dataframe thead th {\n",
       "        text-align: right;\n",
       "    }\n",
       "</style>\n",
       "<table border=\"1\" class=\"dataframe\">\n",
       "  <thead>\n",
       "    <tr style=\"text-align: right;\">\n",
       "      <th></th>\n",
       "      <th>owned</th>\n",
       "      <th>make_model</th>\n",
       "      <th>review_month</th>\n",
       "      <th>web_browser</th>\n",
       "      <th>reviewer_age</th>\n",
       "      <th>primary_use</th>\n",
       "      <th>value_for_money</th>\n",
       "      <th>overall_rating</th>\n",
       "    </tr>\n",
       "  </thead>\n",
       "  <tbody>\n",
       "    <tr>\n",
       "      <th>0</th>\n",
       "      <td>1</td>\n",
       "      <td>Nielah-Eyden</td>\n",
       "      <td>unknown</td>\n",
       "      <td>Chrome</td>\n",
       "      <td>23</td>\n",
       "      <td>Commuting</td>\n",
       "      <td>5/10</td>\n",
       "      <td>18.62</td>\n",
       "    </tr>\n",
       "    <tr>\n",
       "      <th>1</th>\n",
       "      <td>0</td>\n",
       "      <td>Nielah-Keetra</td>\n",
       "      <td>unknown</td>\n",
       "      <td>unknown</td>\n",
       "      <td>24</td>\n",
       "      <td>Commuting</td>\n",
       "      <td>4/10</td>\n",
       "      <td>15.55</td>\n",
       "    </tr>\n",
       "    <tr>\n",
       "      <th>2</th>\n",
       "      <td>0</td>\n",
       "      <td>Lunna-Keetra</td>\n",
       "      <td>Oct</td>\n",
       "      <td>Chrome</td>\n",
       "      <td>28</td>\n",
       "      <td>Commuting</td>\n",
       "      <td>5/10</td>\n",
       "      <td>12.76</td>\n",
       "    </tr>\n",
       "    <tr>\n",
       "      <th>3</th>\n",
       "      <td>1</td>\n",
       "      <td>Hoang-Keetra</td>\n",
       "      <td>Nov</td>\n",
       "      <td>IE</td>\n",
       "      <td>41</td>\n",
       "      <td>Leisure</td>\n",
       "      <td>5/10</td>\n",
       "      <td>17.07</td>\n",
       "    </tr>\n",
       "    <tr>\n",
       "      <th>4</th>\n",
       "      <td>1</td>\n",
       "      <td>Lunna-Keetra</td>\n",
       "      <td>Sep</td>\n",
       "      <td>Chrome</td>\n",
       "      <td>33</td>\n",
       "      <td>Leisure</td>\n",
       "      <td>5/10</td>\n",
       "      <td>12.29</td>\n",
       "    </tr>\n",
       "  </tbody>\n",
       "</table>\n",
       "</div>"
      ],
      "text/plain": [
       "   owned     make_model review_month web_browser  reviewer_age primary_use  \\\n",
       "0      1   Nielah-Eyden      unknown      Chrome            23   Commuting   \n",
       "1      0  Nielah-Keetra      unknown     unknown            24   Commuting   \n",
       "2      0   Lunna-Keetra          Oct      Chrome            28   Commuting   \n",
       "3      1   Hoang-Keetra          Nov          IE            41     Leisure   \n",
       "4      1   Lunna-Keetra          Sep      Chrome            33     Leisure   \n",
       "\n",
       "  value_for_money  overall_rating  \n",
       "0            5/10           18.62  \n",
       "1            4/10           15.55  \n",
       "2            5/10           12.76  \n",
       "3            5/10           17.07  \n",
       "4            5/10           12.29  "
      ]
     },
     "execution_count": 39,
     "metadata": {},
     "output_type": "execute_result"
    }
   ],
   "source": [
    "df.head()"
   ]
  },
  {
   "cell_type": "code",
   "execution_count": 52,
   "metadata": {},
   "outputs": [
    {
     "name": "stdout",
     "output_type": "stream",
     "text": [
      "Accuracy for Baseline Model: 0.74\n",
      "              precision    recall  f1-score   support\n",
      "\n",
      "           0       0.69      0.58      0.63       114\n",
      "           1       0.76      0.84      0.80       186\n",
      "\n",
      "    accuracy                           0.74       300\n",
      "   macro avg       0.73      0.71      0.71       300\n",
      "weighted avg       0.74      0.74      0.73       300\n",
      "\n"
     ]
    }
   ],
   "source": [
    "# Convert categorical variables to numerical form\n",
    "le = LabelEncoder()\n",
    "df['web_browser'] = le.fit_transform(df['web_browser'])\n",
    "df['make_model'] = le.fit_transform(df['make_model'])\n",
    "df['primary_use'] = le.fit_transform(df['primary_use'])\n",
    "df['review_month'] = le.fit_transform(df['review_month'])\n",
    "df['value_for_money'] = df['value_for_money'].str.split('/').str[0].astype(int)\n",
    "\n",
    "\n",
    "# Split data into training and testing sets\n",
    "X_train, X_test, y_train, y_test = train_test_split(df[['web_browser', 'make_model', 'primary_use', 'review_month','reviewer_age', 'value_for_money', 'overall_rating']], df['owned'], test_size=0.2, random_state=42)\n",
    "\n",
    "# Fit logistic regression model\n",
    "clf = LogisticRegression(random_state=42)\n",
    "clf.fit(X_train, y_train)\n",
    "\n",
    "# Evaluate model on test data\n",
    "y_pred = clf.predict(X_test)\n",
    "accuracy = accuracy_score(y_test, y_pred)\n",
    "print('Accuracy for Baseline Model:', accuracy)\n",
    "\n",
    "print(classification_report(y_test, y_pred))"
   ]
  },
  {
   "cell_type": "code",
   "execution_count": 51,
   "metadata": {},
   "outputs": [
    {
     "data": {
      "image/png": "[encoded data removed]",
      "text/plain": [
       "<Figure size 640x480 with 2 Axes>"
      ]
     },
     "metadata": {},
     "output_type": "display_data"
    }
   ],
   "source": [
    "from sklearn.metrics import confusion_matrix\n",
    "# Compute confusion matrix\n",
    "cm = confusion_matrix(y_test, y_pred)\n",
    "\n",
    "# Plot confusion matrix\n",
    "plt.imshow(cm, interpolation='nearest', cmap=plt.cm.Blues)\n",
    "plt.title(\"Confusion Matrix\")\n",
    "plt.colorbar()\n",
    "tick_marks = np.arange(2)\n",
    "plt.xticks(tick_marks, ['Not Owner', 'Owner'])\n",
    "plt.yticks(tick_marks, ['Not Owner', 'Owner'])\n",
    "plt.tight_layout()\n",
    "plt.ylabel('True label')\n",
    "plt.xlabel('Predicted label')\n",
    "width, height = cm.shape\n",
    "\n",
    "for x in range(width):\n",
    "    for y in range(height):\n",
    "        plt.annotate(str(cm[x][y]), xy=(y, x), \n",
    "                    horizontalalignment='center',\n",
    "                    verticalalignment='center')\n",
    "\n",
    "plt.show()"
   ]
  },
  {
   "attachments": {},
   "cell_type": "markdown",
   "metadata": {},
   "source": [
    "#### Question 7\n",
    "Fit a comparison model to predict whether a review came from an owner or not using\n",
    "the data provided. You must include your code."
   ]
  },
  {
   "attachments": {},
   "cell_type": "markdown",
   "metadata": {},
   "source": [
    "#### Answer to Number 7\n"
   ]
  },
  {
   "cell_type": "code",
   "execution_count": 45,
   "metadata": {},
   "outputs": [
    {
     "name": "stdout",
     "output_type": "stream",
     "text": [
      "Comparison Model Accuracy Score: 0.7033333333333334\n",
      "              precision    recall  f1-score   support\n",
      "\n",
      "           0       0.62      0.58      0.60       114\n",
      "           1       0.75      0.78      0.77       186\n",
      "\n",
      "    accuracy                           0.70       300\n",
      "   macro avg       0.68      0.68      0.68       300\n",
      "weighted avg       0.70      0.70      0.70       300\n",
      "\n"
     ]
    }
   ],
   "source": [
    "from sklearn.ensemble import RandomForestClassifier\n",
    "from sklearn.metrics import accuracy_score\n",
    "# Split the data into training and testing sets\n",
    "X_train, X_test, y_train, y_test = train_test_split(df[['web_browser', 'make_model', 'primary_use', 'review_month','reviewer_age', 'value_for_money', 'overall_rating']], df['owned'], test_size=0.2, random_state=42)\n",
    "\n",
    "# Fit the random forest model\n",
    "rf = RandomForestClassifier(random_state=42)\n",
    "rf.fit(X_train, y_train)\n",
    "\n",
    "# Make predictions on the test set\n",
    "y_pred = rf.predict(X_test)\n",
    "\n",
    "# Calculate the accuracy score\n",
    "accuracy = accuracy_score(y_test, y_pred)\n",
    "print(\"Comparison Model Accuracy Score:\", accuracy)\n",
    "\n",
    "print(classification_report(y_test, y_pred))"
   ]
  },
  {
   "cell_type": "code",
   "execution_count": 48,
   "metadata": {},
   "outputs": [
    {
     "data": {
      "image/png": "[encoded data removed]",
      "text/plain": [
       "<Figure size 640x480 with 2 Axes>"
      ]
     },
     "metadata": {},
     "output_type": "display_data"
    }
   ],
   "source": [
    "from sklearn.metrics import confusion_matrix\n",
    "# Compute confusion matrix\n",
    "cm = confusion_matrix(y_test, y_pred)\n",
    "\n",
    "# Plot confusion matrix\n",
    "plt.imshow(cm, interpolation='nearest', cmap=plt.cm.Blues)\n",
    "plt.title(\"Confusion Matrix\")\n",
    "plt.colorbar()\n",
    "tick_marks = np.arange(2)\n",
    "plt.xticks(tick_marks, ['Not Owner', 'Owner'])\n",
    "plt.yticks(tick_marks, ['Not Owner', 'Owner'])\n",
    "plt.tight_layout()\n",
    "plt.ylabel('True label')\n",
    "plt.xlabel('Predicted label')\n",
    "width, height = cm.shape\n",
    "\n",
    "for x in range(width):\n",
    "    for y in range(height):\n",
    "        plt.annotate(str(cm[x][y]), xy=(y, x), \n",
    "                    horizontalalignment='center',\n",
    "                    verticalalignment='center')\n",
    "\n",
    "plt.show()"
   ]
  },
  {
   "attachments": {},
   "cell_type": "markdown",
   "metadata": {},
   "source": [
    "#### Question 8\n",
    "Explain why you chose the two models used in parts 6 and 7."
   ]
  },
  {
   "attachments": {},
   "cell_type": "markdown",
   "metadata": {},
   "source": [
    "#### Answer to Number 8\n",
    "I chose the logistic regression model as a baseline because it is a simple and fast algorithm that is commonly used for binary classification problems. Logistic regression works well when the relationship between the independent variables and the dependent variable is linear and the decision boundary is linear.\n",
    "\n",
    "I chose the random forest classifier as a comparison model because it is a powerful and versatile algorithm that can handle non-linear relationships between the independent variables and the dependent variable. Random forest can also handle high dimensional datasets and is less prone to overfitting than other decision tree-based algorithms.\n"
   ]
  },
  {
   "attachments": {},
   "cell_type": "markdown",
   "metadata": {},
   "source": [
    "#### Question 9\n",
    "Compare the performance of the two models used in parts 6 and 7, using any method\n",
    "suitable for the type of model. You must include your code."
   ]
  },
  {
   "attachments": {},
   "cell_type": "markdown",
   "metadata": {},
   "source": [
    "#### Answer to Number 9\n",
    "The metrics for the random forest classifier and logistic regression algorithm can be seen above. A confusion matrix plot is also included for both models.\n"
   ]
  },
  {
   "attachments": {},
   "cell_type": "markdown",
   "metadata": {},
   "source": [
    "#### Question 10\n",
    "Explain which model performs better and why."
   ]
  },
  {
   "attachments": {},
   "cell_type": "markdown",
   "metadata": {},
   "source": [
    "#### Answer to Number 10\n",
    "Based on the accuracy score, the logistic regression model (0.74) performs better than the random forest model (0.703). The precision, recall, and F1-score are also slightly better for the logistic regression model.\n",
    "\n",
    "The relationship between the predictor variables and the response variable may be more linear, making logistic regression a better fit for the data. The dataset is also relatively small, which can make random forest models prone to overfitting.\n"
   ]
  }
 ],
 "metadata": {
  "kernelspec": {
   "display_name": "Python 3",
   "language": "python",
   "name": "python3"
  },
  "language_info": {
   "codemirror_mode": {
    "name": "ipython",
    "version": 3
   },
   "file_extension": ".py",
   "mimetype": "text/x-python",
   "name": "python",
   "nbconvert_exporter": "python",
   "pygments_lexer": "ipython3",
   "version": "3.8.10"
  },
  "orig_nbformat": 4
 },
 "nbformat": 4,
 "nbformat_minor": 2
}
